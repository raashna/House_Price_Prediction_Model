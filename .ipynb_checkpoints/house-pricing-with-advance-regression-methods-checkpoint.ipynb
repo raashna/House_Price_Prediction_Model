{
 "cells": [
  {
   "cell_type": "code",
   "execution_count": 1,
   "metadata": {
    "_cell_guid": "b1076dfc-b9ad-4769-8c92-a6c4dae69d19",
    "_uuid": "8f2839f25d086af736a60e9eeb907d3b93b6e0e5",
    "execution": {
     "iopub.execute_input": "2022-06-28T15:18:16.029819Z",
     "iopub.status.busy": "2022-06-28T15:18:16.029260Z",
     "iopub.status.idle": "2022-06-28T15:18:16.685728Z",
     "shell.execute_reply": "2022-06-28T15:18:16.684346Z",
     "shell.execute_reply.started": "2022-06-28T15:18:16.029717Z"
    }
   },
   "outputs": [],
   "source": [
    "import pandas as pd\n",
    "import numpy as np\n",
    "import seaborn as sns\n",
    "%matplotlib inline\n",
    "import matplotlib.pyplot as plt\n",
    "import warnings\n",
    "warnings.filterwarnings('ignore')\n",
    "from sklearn.model_selection import train_test_split\n",
    "from sklearn.preprocessing import LabelEncoder\n",
    "from sklearn import metrics\n",
    "from sklearn.metrics import mean_absolute_error, mean_squared_error, r2_score\n",
    "from sklearn.svm import SVR\n",
    "from sklearn.tree import DecisionTreeRegressor\n",
    "from sklearn.ensemble import RandomForestRegressor\n",
    "from sklearn import neighbors\n",
    "from math import sqrt"
   ]
  },
  {
   "cell_type": "code",
   "execution_count": 2,
   "metadata": {
    "execution": {
     "iopub.execute_input": "2022-06-28T15:18:16.687959Z",
     "iopub.status.busy": "2022-06-28T15:18:16.687626Z",
     "iopub.status.idle": "2022-06-28T15:18:16.751390Z",
     "shell.execute_reply": "2022-06-28T15:18:16.750162Z",
     "shell.execute_reply.started": "2022-06-28T15:18:16.687930Z"
    }
   },
   "outputs": [],
   "source": [
    "df1 = pd.read_csv('../input/house-prices-advanced-regression-techniques/train.csv')\n",
    "df1"
   ]
  },
  {
   "cell_type": "code",
   "execution_count": 3,
   "metadata": {
    "execution": {
     "iopub.execute_input": "2022-06-28T15:19:37.530581Z",
     "iopub.status.busy": "2022-06-28T15:19:37.530101Z",
     "iopub.status.idle": "2022-06-28T15:19:37.599090Z",
     "shell.execute_reply": "2022-06-28T15:19:37.597861Z",
     "shell.execute_reply.started": "2022-06-28T15:19:37.530543Z"
    }
   },
   "outputs": [],
   "source": [
    "valid = pd.read_csv('../input/house-prices-advanced-regression-techniques/test.csv')\n",
    "valid"
   ]
  },
  {
   "cell_type": "code",
   "execution_count": 4,
   "metadata": {
    "execution": {
     "iopub.execute_input": "2022-06-28T15:20:37.073488Z",
     "iopub.status.busy": "2022-06-28T15:20:37.073091Z",
     "iopub.status.idle": "2022-06-28T15:20:37.112400Z",
     "shell.execute_reply": "2022-06-28T15:20:37.111030Z",
     "shell.execute_reply.started": "2022-06-28T15:20:37.073456Z"
    }
   },
   "outputs": [],
   "source": [
    "valid.info()"
   ]
  },
  {
   "cell_type": "code",
   "execution_count": 5,
   "metadata": {
    "execution": {
     "iopub.execute_input": "2022-06-28T15:21:08.588625Z",
     "iopub.status.busy": "2022-06-28T15:21:08.588182Z",
     "iopub.status.idle": "2022-06-28T15:21:08.618280Z",
     "shell.execute_reply": "2022-06-28T15:21:08.616883Z",
     "shell.execute_reply.started": "2022-06-28T15:21:08.588591Z"
    }
   },
   "outputs": [],
   "source": [
    "df1.head()"
   ]
  },
  {
   "cell_type": "code",
   "execution_count": 6,
   "metadata": {
    "execution": {
     "iopub.execute_input": "2022-06-28T15:21:33.027440Z",
     "iopub.status.busy": "2022-06-28T15:21:33.027000Z",
     "iopub.status.idle": "2022-06-28T15:21:33.145018Z",
     "shell.execute_reply": "2022-06-28T15:21:33.143744Z",
     "shell.execute_reply.started": "2022-06-28T15:21:33.027403Z"
    }
   },
   "outputs": [],
   "source": [
    "df1.describe()"
   ]
  },
  {
   "cell_type": "code",
   "execution_count": 7,
   "metadata": {
    "execution": {
     "iopub.execute_input": "2022-06-28T15:22:14.003188Z",
     "iopub.status.busy": "2022-06-28T15:22:14.002304Z",
     "iopub.status.idle": "2022-06-28T15:22:14.028997Z",
     "shell.execute_reply": "2022-06-28T15:22:14.027571Z",
     "shell.execute_reply.started": "2022-06-28T15:22:14.003113Z"
    }
   },
   "outputs": [],
   "source": [
    "df1.info()"
   ]
  },
  {
   "cell_type": "code",
   "execution_count": 8,
   "metadata": {
    "execution": {
     "iopub.execute_input": "2022-06-28T15:22:48.344368Z",
     "iopub.status.busy": "2022-06-28T15:22:48.343957Z",
     "iopub.status.idle": "2022-06-28T15:22:48.362234Z",
     "shell.execute_reply": "2022-06-28T15:22:48.361289Z",
     "shell.execute_reply.started": "2022-06-28T15:22:48.344331Z"
    }
   },
   "outputs": [],
   "source": [
    "df1.isnull().sum()"
   ]
  },
  {
   "cell_type": "code",
   "execution_count": 9,
   "metadata": {
    "execution": {
     "iopub.execute_input": "2022-06-28T15:23:26.993187Z",
     "iopub.status.busy": "2022-06-28T15:23:26.992733Z",
     "iopub.status.idle": "2022-06-28T15:23:27.012577Z",
     "shell.execute_reply": "2022-06-28T15:23:27.011499Z",
     "shell.execute_reply.started": "2022-06-28T15:23:26.993154Z"
    }
   },
   "outputs": [],
   "source": [
    "df1.isnull().mean()"
   ]
  },
  {
   "cell_type": "code",
   "execution_count": 10,
   "metadata": {
    "execution": {
     "iopub.execute_input": "2022-06-28T15:24:25.370548Z",
     "iopub.status.busy": "2022-06-28T15:24:25.370109Z",
     "iopub.status.idle": "2022-06-28T15:24:25.377984Z",
     "shell.execute_reply": "2022-06-28T15:24:25.376708Z",
     "shell.execute_reply.started": "2022-06-28T15:24:25.370502Z"
    }
   },
   "outputs": [],
   "source": [
    "def missing (df1):\n",
    "    missing_number = df1.isnull().sum().sort_values(ascending=False)\n",
    "    missing_percent = ((df1.isnull().sum()/df1.isnull().count())*100).sort_values(ascending=False)\n",
    "    missing_values = pd.concat([missing_number, missing_percent], axis=1, keys=['Missing_Number', 'Missing_Percent'])\n",
    "    return missing_values"
   ]
  },
  {
   "cell_type": "code",
   "execution_count": 11,
   "metadata": {
    "execution": {
     "iopub.execute_input": "2022-06-28T15:24:44.863722Z",
     "iopub.status.busy": "2022-06-28T15:24:44.863339Z",
     "iopub.status.idle": "2022-06-28T15:24:44.904822Z",
     "shell.execute_reply": "2022-06-28T15:24:44.903757Z",
     "shell.execute_reply.started": "2022-06-28T15:24:44.863693Z"
    }
   },
   "outputs": [],
   "source": [
    "missing(df1)"
   ]
  },
  {
   "cell_type": "code",
   "execution_count": 13,
   "metadata": {
    "execution": {
     "iopub.execute_input": "2022-06-28T15:25:56.217561Z",
     "iopub.status.busy": "2022-06-28T15:25:56.217031Z",
     "iopub.status.idle": "2022-06-28T15:25:56.262488Z",
     "shell.execute_reply": "2022-06-28T15:25:56.261621Z",
     "shell.execute_reply.started": "2022-06-28T15:25:56.217503Z"
    }
   },
   "outputs": [],
   "source": [
    "for col in df1.columns:\n",
    "    if df1[col].isnull().mean()*100>40:\n",
    "        df1.drop(col,axis=1,inplace=True)"
   ]
  },
  {
   "cell_type": "code",
   "execution_count": 14,
   "metadata": {
    "execution": {
     "iopub.execute_input": "2022-06-28T15:26:01.734791Z",
     "iopub.status.busy": "2022-06-28T15:26:01.734281Z",
     "iopub.status.idle": "2022-06-28T15:26:01.771042Z",
     "shell.execute_reply": "2022-06-28T15:26:01.770246Z",
     "shell.execute_reply.started": "2022-06-28T15:26:01.734754Z"
    }
   },
   "outputs": [],
   "source": [
    "df1"
   ]
  },
  {
   "cell_type": "code",
   "execution_count": 18,
   "metadata": {
    "execution": {
     "iopub.execute_input": "2022-06-28T15:27:06.130360Z",
     "iopub.status.busy": "2022-06-28T15:27:06.129985Z",
     "iopub.status.idle": "2022-06-28T15:27:06.138700Z",
     "shell.execute_reply": "2022-06-28T15:27:06.137400Z",
     "shell.execute_reply.started": "2022-06-28T15:27:06.130329Z"
    }
   },
   "outputs": [],
   "source": [
    "df1.columns"
   ]
  },
  {
   "cell_type": "code",
   "execution_count": 19,
   "metadata": {
    "execution": {
     "iopub.execute_input": "2022-06-28T15:27:45.252255Z",
     "iopub.status.busy": "2022-06-28T15:27:45.251708Z",
     "iopub.status.idle": "2022-06-28T15:27:45.467493Z",
     "shell.execute_reply": "2022-06-28T15:27:45.466209Z",
     "shell.execute_reply.started": "2022-06-28T15:27:45.252213Z"
    }
   },
   "outputs": [],
   "source": [
    "sns.countplot(df1.dtypes.map(str))\n",
    "plt.show()"
   ]
  },
  {
   "cell_type": "code",
   "execution_count": 20,
   "metadata": {
    "execution": {
     "iopub.execute_input": "2022-06-28T15:28:01.082602Z",
     "iopub.status.busy": "2022-06-28T15:28:01.082164Z",
     "iopub.status.idle": "2022-06-28T15:28:01.091964Z",
     "shell.execute_reply": "2022-06-28T15:28:01.090880Z",
     "shell.execute_reply.started": "2022-06-28T15:28:01.082566Z"
    }
   },
   "outputs": [],
   "source": [
    "df1.dtypes.value_counts()"
   ]
  },
  {
   "cell_type": "code",
   "execution_count": 21,
   "metadata": {
    "execution": {
     "iopub.execute_input": "2022-06-28T15:28:35.486446Z",
     "iopub.status.busy": "2022-06-28T15:28:35.486050Z",
     "iopub.status.idle": "2022-06-28T15:28:35.661352Z",
     "shell.execute_reply": "2022-06-28T15:28:35.660077Z",
     "shell.execute_reply.started": "2022-06-28T15:28:35.486415Z"
    }
   },
   "outputs": [],
   "source": [
    "f = lambda x: x.median() if np.issubdtype(x.dtype, np.number) else x.mode().iloc[0]\n",
    "df1 = df1.fillna(df1.groupby('YrSold').transform(f))\n",
    "df1"
   ]
  },
  {
   "cell_type": "code",
   "execution_count": 22,
   "metadata": {
    "execution": {
     "iopub.execute_input": "2022-06-28T15:29:20.145314Z",
     "iopub.status.busy": "2022-06-28T15:29:20.144873Z",
     "iopub.status.idle": "2022-06-28T15:29:20.327366Z",
     "shell.execute_reply": "2022-06-28T15:29:20.325630Z",
     "shell.execute_reply.started": "2022-06-28T15:29:20.145278Z"
    }
   },
   "outputs": [],
   "source": [
    "for col in df1.columns:\n",
    "    if df1[col].dtypes != object:\n",
    "        q1 = df1[col].quantile(0.25)\n",
    "        q2 = df1[col].quantile(0.50)\n",
    "        q3 = df1[col].quantile(0.75)\n",
    "        IQR = q3 - q1\n",
    "        llp = q1-1.5*IQR\n",
    "        ulp = q3+1.5*IQR\n",
    "        print('column name',col)\n",
    "        print('q1',q1)\n",
    "        print('q2',q2)\n",
    "        print('q3',q3)\n",
    "        print('IQR',IQR)\n",
    "        print('llp',llp)\n",
    "        print('ulp',ulp)\n",
    "        print('mean:',df1[col].mean())\n",
    "        print('median:',df1[col].median())\n",
    "        print('mode',df1[col].mode()[0])\n",
    "        print('skewness:',df1[col].skew())\n",
    "        print('kurtosis:',df1[col].kurtosis())\n",
    "        print('std',df1[col].std())\n",
    "        print('max',df1[col].max())\n",
    "        print('min',df1[col].min())\n",
    "        print('null_value count:',df1[col].isnull().sum())\n",
    "        print('\\n')"
   ]
  },
  {
   "cell_type": "code",
   "execution_count": 23,
   "metadata": {
    "execution": {
     "iopub.execute_input": "2022-06-28T15:30:17.336663Z",
     "iopub.status.busy": "2022-06-28T15:30:17.336120Z",
     "iopub.status.idle": "2022-06-28T15:30:17.347855Z",
     "shell.execute_reply": "2022-06-28T15:30:17.346601Z",
     "shell.execute_reply.started": "2022-06-28T15:30:17.336616Z"
    }
   },
   "outputs": [],
   "source": [
    "df1.dtypes"
   ]
  },
  {
   "cell_type": "code",
   "execution_count": 24,
   "metadata": {
    "execution": {
     "iopub.execute_input": "2022-06-28T15:30:41.557553Z",
     "iopub.status.busy": "2022-06-28T15:30:41.557163Z",
     "iopub.status.idle": "2022-06-28T15:30:41.565596Z",
     "shell.execute_reply": "2022-06-28T15:30:41.564485Z",
     "shell.execute_reply.started": "2022-06-28T15:30:41.557506Z"
    }
   },
   "outputs": [],
   "source": [
    "df1['MSZoning'].unique()"
   ]
  },
  {
   "cell_type": "code",
   "execution_count": 25,
   "metadata": {
    "execution": {
     "iopub.execute_input": "2022-06-28T15:30:53.740283Z",
     "iopub.status.busy": "2022-06-28T15:30:53.739895Z",
     "iopub.status.idle": "2022-06-28T15:30:53.748612Z",
     "shell.execute_reply": "2022-06-28T15:30:53.747635Z",
     "shell.execute_reply.started": "2022-06-28T15:30:53.740250Z"
    }
   },
   "outputs": [],
   "source": [
    "df1['RoofMatl'].unique()"
   ]
  },
  {
   "cell_type": "code",
   "execution_count": 26,
   "metadata": {
    "execution": {
     "iopub.execute_input": "2022-06-28T15:31:18.536140Z",
     "iopub.status.busy": "2022-06-28T15:31:18.535710Z",
     "iopub.status.idle": "2022-06-28T15:31:18.599493Z",
     "shell.execute_reply": "2022-06-28T15:31:18.598231Z",
     "shell.execute_reply.started": "2022-06-28T15:31:18.536105Z"
    }
   },
   "outputs": [],
   "source": [
    "Q1 = df1.quantile(0.25)\n",
    "Q3 = df1.quantile(0.75)\n",
    "IQR = Q3 - Q1\n",
    "print('outliers count of each columns')\n",
    "((df1 < (Q1 - 1.5 * IQR)) | (df1 > (Q3 + 1.5 * IQR))).sum()"
   ]
  },
  {
   "cell_type": "code",
   "execution_count": 27,
   "metadata": {
    "execution": {
     "iopub.execute_input": "2022-06-28T15:31:44.608285Z",
     "iopub.status.busy": "2022-06-28T15:31:44.607789Z",
     "iopub.status.idle": "2022-06-28T15:31:52.317686Z",
     "shell.execute_reply": "2022-06-28T15:31:52.316760Z",
     "shell.execute_reply.started": "2022-06-28T15:31:44.608244Z"
    }
   },
   "outputs": [],
   "source": [
    "count=1\n",
    "plt.subplots(figsize=(30,25))\n",
    "for i in df1.columns:\n",
    "    if df1[i].dtypes!='object':\n",
    "        plt.subplot(6,7,count)\n",
    "        sns.distplot(df1[i])\n",
    "        count+=1\n",
    "\n",
    "plt.show()"
   ]
  },
  {
   "cell_type": "code",
   "execution_count": 28,
   "metadata": {
    "execution": {
     "iopub.execute_input": "2022-06-28T15:32:53.462931Z",
     "iopub.status.busy": "2022-06-28T15:32:53.462501Z",
     "iopub.status.idle": "2022-06-28T15:32:57.147612Z",
     "shell.execute_reply": "2022-06-28T15:32:57.146620Z",
     "shell.execute_reply.started": "2022-06-28T15:32:53.462898Z"
    }
   },
   "outputs": [],
   "source": [
    "count=1\n",
    "plt.subplots(figsize=(30,25))\n",
    "for i in df1.columns:\n",
    "    if df1[i].dtypes!='object':\n",
    "        plt.subplot(6,7,count)\n",
    "        sns.boxplot(df1[i])\n",
    "        count+=1\n",
    "\n",
    "plt.show()"
   ]
  },
  {
   "cell_type": "code",
   "execution_count": 29,
   "metadata": {
    "execution": {
     "iopub.execute_input": "2022-06-28T15:33:20.918158Z",
     "iopub.status.busy": "2022-06-28T15:33:20.917366Z",
     "iopub.status.idle": "2022-06-28T15:33:20.930587Z",
     "shell.execute_reply": "2022-06-28T15:33:20.929363Z",
     "shell.execute_reply.started": "2022-06-28T15:33:20.918113Z"
    }
   },
   "outputs": [],
   "source": [
    "df1.dtypes"
   ]
  },
  {
   "cell_type": "code",
   "execution_count": 31,
   "metadata": {
    "execution": {
     "iopub.execute_input": "2022-06-28T15:35:36.095382Z",
     "iopub.status.busy": "2022-06-28T15:35:36.094832Z",
     "iopub.status.idle": "2022-06-28T15:36:46.020986Z",
     "shell.execute_reply": "2022-06-28T15:36:46.019373Z",
     "shell.execute_reply.started": "2022-06-28T15:35:36.095341Z"
    }
   },
   "outputs": [],
   "source": [
    "#pip install autoviz\n",
    "from autoviz.AutoViz_Class import AutoViz_Class\n",
    "AV = AutoViz_Class()\n",
    "df_av = AV.AutoViz('../input/house-prices-advanced-regression-techniques/train.csv')"
   ]
  },
  {
   "cell_type": "code",
   "execution_count": 32,
   "metadata": {
    "execution": {
     "iopub.execute_input": "2022-06-28T15:37:41.516014Z",
     "iopub.status.busy": "2022-06-28T15:37:41.512824Z",
     "iopub.status.idle": "2022-06-28T15:37:41.576639Z",
     "shell.execute_reply": "2022-06-28T15:37:41.574920Z",
     "shell.execute_reply.started": "2022-06-28T15:37:41.515934Z"
    }
   },
   "outputs": [],
   "source": [
    "le=LabelEncoder()\n",
    "for col in df1.columns:\n",
    "    if df1[col].dtypes == object:\n",
    "        df1[col]= le.fit_transform(df1[col])"
   ]
  },
  {
   "cell_type": "code",
   "execution_count": 33,
   "metadata": {
    "execution": {
     "iopub.execute_input": "2022-06-28T15:39:42.252890Z",
     "iopub.status.busy": "2022-06-28T15:39:42.252251Z",
     "iopub.status.idle": "2022-06-28T15:39:42.268431Z",
     "shell.execute_reply": "2022-06-28T15:39:42.267277Z",
     "shell.execute_reply.started": "2022-06-28T15:39:42.252849Z"
    }
   },
   "outputs": [],
   "source": [
    "X=df1.drop('SalePrice',axis=1)\n",
    "y=df1['SalePrice']"
   ]
  },
  {
   "cell_type": "code",
   "execution_count": 34,
   "metadata": {
    "execution": {
     "iopub.execute_input": "2022-06-28T15:39:59.620813Z",
     "iopub.status.busy": "2022-06-28T15:39:59.620129Z",
     "iopub.status.idle": "2022-06-28T15:39:59.634360Z",
     "shell.execute_reply": "2022-06-28T15:39:59.633312Z",
     "shell.execute_reply.started": "2022-06-28T15:39:59.620770Z"
    }
   },
   "outputs": [],
   "source": [
    "X_train,X_test,y_train,y_test = train_test_split(X,y,test_size=0.25,random_state=42)"
   ]
  },
  {
   "cell_type": "code",
   "execution_count": 35,
   "metadata": {
    "execution": {
     "iopub.execute_input": "2022-06-28T15:43:45.185507Z",
     "iopub.status.busy": "2022-06-28T15:43:45.185030Z",
     "iopub.status.idle": "2022-06-28T15:43:45.208695Z",
     "shell.execute_reply": "2022-06-28T15:43:45.206648Z",
     "shell.execute_reply.started": "2022-06-28T15:43:45.185474Z"
    }
   },
   "outputs": [],
   "source": [
    "def train_models(X_train, y_train):\n",
    "    \n",
    "   \n",
    "    tree = DecisionTreeRegressor(max_features=75,max_depth=4, random_state = 0)\n",
    "    tree.fit(X_train, y_train)\n",
    "    y_pred_tree = tree.predict(X_test)\n",
    "\n",
    "    rf = RandomForestRegressor(n_estimators = 100,max_features =75, random_state = 0)\n",
    "    rf.fit(X_train, y_train)\n",
    "    y_pred_rf= rf.predict(X_test)\n",
    "    \n",
    "    svr= SVR(kernel = 'rbf')\n",
    "    svr.fit(X_train, y_train)\n",
    "    y_pred_svr = svr.predict(X_test)\n",
    "    \n",
    "    svr_l= SVR(kernel = 'linear')\n",
    "    svr_l.fit(X_train, y_train)\n",
    "    y_pred_svr_linear = svr_l.predict(X_test)\n",
    "    \n",
    "    knn = neighbors.KNeighborsRegressor()\n",
    "    knn.fit(X_train, y_train)\n",
    "    y_pred_knn = knn.predict(X_test)\n",
    "    \n",
    "    meanAbErr_tree= metrics.mean_absolute_error(y_test, y_pred_tree)\n",
    "    meanSqErr_tree= metrics.mean_squared_error(y_test, y_pred_tree)\n",
    "    rootMeanSqErr_tree= np.sqrt(metrics.mean_squared_error(y_test, y_pred_tree))\n",
    "    \n",
    "    meanAbErr_rf= metrics.mean_absolute_error(y_test, y_pred_rf)\n",
    "    meanSqErr_rf= metrics.mean_squared_error(y_test, y_pred_rf)\n",
    "    rootMeanSqErr_rf= np.sqrt(metrics.mean_squared_error(y_test, y_pred_rf))\n",
    "  \n",
    "    meanAbErr_knn = metrics.mean_absolute_error(y_test, y_pred_knn)\n",
    "    meanSqErr_knn = metrics.mean_squared_error(y_test, y_pred_knn)\n",
    "    rootMeanSqErr_knn= np.sqrt(metrics.mean_squared_error(y_test, y_pred_knn)) \n",
    "\n",
    "    meanAbErr_svr = metrics.mean_absolute_error(y_test, y_pred_svr_linear)\n",
    "    meanSqErr_svr = metrics.mean_squared_error(y_test, y_pred_svr_linear)\n",
    "    rootMeanSqErr_svr= np.sqrt(metrics.mean_squared_error(y_test, y_pred_svr_linear)) \n",
    "\n",
    "    print('[1]Decision Tree Training Accurancy: ', r2_score(y_test,y_pred_tree))\n",
    "    print('Mean Absolute Error:', meanAbErr_tree)\n",
    "    print('Mean Square Error:', meanSqErr_tree)\n",
    "    print('Root Mean Square Error:', rootMeanSqErr_tree)\n",
    "    print('\\t')\n",
    "    print('[2]RandomForestRegressor Training Accurancy: ',r2_score(y_test,y_pred_rf))\n",
    "    print('Mean Absolute Error:', meanAbErr_rf)\n",
    "    print('Mean Square Error:', meanSqErr_rf)\n",
    "    print('Root Mean Square Error:', rootMeanSqErr_rf)\n",
    "    print('\\t')    \n",
    "    print('[3]SupportvectorRegression Accuracy(rbf): ', r2_score(y_test,y_pred_svr))\n",
    "    print('\\t')\n",
    "    print('[4]SupportvectorRegression Accuracy(linear): ', r2_score(y_test,y_pred_svr_linear))\n",
    "    print('Mean Absolute Error:', meanAbErr_svr)\n",
    "    print('Mean Square Error:', meanSqErr_svr)\n",
    "    print('Root Mean Square Error:', rootMeanSqErr_svr)\n",
    "    print('\\t')\n",
    "    print('[5]knn Training Accurancy: ', r2_score(y_test,y_pred_knn))\n",
    "    print('Mean Absolute Error:', meanAbErr_knn)\n",
    "    print('Mean Square Error:', meanSqErr_knn)\n",
    "    print('Root Mean Square Error:', rootMeanSqErr_knn)\n",
    "    print('\\t')"
   ]
  },
  {
   "cell_type": "code",
   "execution_count": 36,
   "metadata": {
    "execution": {
     "iopub.execute_input": "2022-06-28T15:44:03.155995Z",
     "iopub.status.busy": "2022-06-28T15:44:03.154895Z",
     "iopub.status.idle": "2022-06-28T15:44:17.381348Z",
     "shell.execute_reply": "2022-06-28T15:44:17.379804Z",
     "shell.execute_reply.started": "2022-06-28T15:44:03.155941Z"
    }
   },
   "outputs": [],
   "source": [
    "train_models(X_train, y_train)"
   ]
  },
  {
   "cell_type": "code",
   "execution_count": 37,
   "metadata": {
    "execution": {
     "iopub.execute_input": "2022-06-28T15:45:08.279446Z",
     "iopub.status.busy": "2022-06-28T15:45:08.278979Z",
     "iopub.status.idle": "2022-06-28T15:45:08.369385Z",
     "shell.execute_reply": "2022-06-28T15:45:08.367998Z",
     "shell.execute_reply.started": "2022-06-28T15:45:08.279412Z"
    }
   },
   "outputs": [],
   "source": [
    "from sklearn.linear_model import LinearRegression\n",
    "mlr = LinearRegression()  \n",
    "mlr.fit(X_train, y_train)\n",
    "y_pred_mlr= mlr.predict(X_test)\n",
    "y_pred_mlr"
   ]
  },
  {
   "cell_type": "code",
   "execution_count": 38,
   "metadata": {
    "execution": {
     "iopub.execute_input": "2022-06-28T15:45:42.170867Z",
     "iopub.status.busy": "2022-06-28T15:45:42.170407Z",
     "iopub.status.idle": "2022-06-28T15:45:42.179998Z",
     "shell.execute_reply": "2022-06-28T15:45:42.178678Z",
     "shell.execute_reply.started": "2022-06-28T15:45:42.170831Z"
    }
   },
   "outputs": [],
   "source": [
    "r2_mlr =r2_score(y_test,y_pred_mlr)\n",
    "print('r2_score:',r2_mlr*100)"
   ]
  },
  {
   "cell_type": "code",
   "execution_count": 39,
   "metadata": {
    "execution": {
     "iopub.execute_input": "2022-06-28T15:46:23.666097Z",
     "iopub.status.busy": "2022-06-28T15:46:23.665651Z",
     "iopub.status.idle": "2022-06-28T15:46:23.711338Z",
     "shell.execute_reply": "2022-06-28T15:46:23.707973Z",
     "shell.execute_reply.started": "2022-06-28T15:46:23.666060Z"
    }
   },
   "outputs": [],
   "source": [
    "valid"
   ]
  },
  {
   "cell_type": "code",
   "execution_count": 40,
   "metadata": {
    "execution": {
     "iopub.execute_input": "2022-06-28T15:46:52.422710Z",
     "iopub.status.busy": "2022-06-28T15:46:52.422168Z",
     "iopub.status.idle": "2022-06-28T15:46:52.466201Z",
     "shell.execute_reply": "2022-06-28T15:46:52.465232Z",
     "shell.execute_reply.started": "2022-06-28T15:46:52.422667Z"
    }
   },
   "outputs": [],
   "source": [
    "missing(valid)"
   ]
  },
  {
   "cell_type": "code",
   "execution_count": 41,
   "metadata": {
    "execution": {
     "iopub.execute_input": "2022-06-28T15:47:14.594318Z",
     "iopub.status.busy": "2022-06-28T15:47:14.592508Z",
     "iopub.status.idle": "2022-06-28T15:47:14.658133Z",
     "shell.execute_reply": "2022-06-28T15:47:14.656757Z",
     "shell.execute_reply.started": "2022-06-28T15:47:14.594257Z"
    }
   },
   "outputs": [],
   "source": [
    "for col in valid.columns:\n",
    "    if valid[col].isnull().mean()*100>40:\n",
    "        valid.drop(col,axis=1,inplace=True)"
   ]
  },
  {
   "cell_type": "code",
   "execution_count": 42,
   "metadata": {
    "execution": {
     "iopub.execute_input": "2022-06-28T15:47:26.931519Z",
     "iopub.status.busy": "2022-06-28T15:47:26.931019Z",
     "iopub.status.idle": "2022-06-28T15:47:26.970323Z",
     "shell.execute_reply": "2022-06-28T15:47:26.969026Z",
     "shell.execute_reply.started": "2022-06-28T15:47:26.931478Z"
    }
   },
   "outputs": [],
   "source": [
    "valid"
   ]
  },
  {
   "cell_type": "code",
   "execution_count": 43,
   "metadata": {
    "execution": {
     "iopub.execute_input": "2022-06-28T15:47:55.809834Z",
     "iopub.status.busy": "2022-06-28T15:47:55.809373Z",
     "iopub.status.idle": "2022-06-28T15:47:55.993810Z",
     "shell.execute_reply": "2022-06-28T15:47:55.992556Z",
     "shell.execute_reply.started": "2022-06-28T15:47:55.809797Z"
    }
   },
   "outputs": [],
   "source": [
    "f = lambda x: x.median() if np.issubdtype(x.dtype, np.number) else x.mode().iloc[0]\n",
    "valid = valid.fillna(valid.groupby('YrSold').transform(f))\n",
    "valid"
   ]
  },
  {
   "cell_type": "code",
   "execution_count": 44,
   "metadata": {
    "execution": {
     "iopub.execute_input": "2022-06-28T15:48:37.322929Z",
     "iopub.status.busy": "2022-06-28T15:48:37.322490Z",
     "iopub.status.idle": "2022-06-28T15:48:37.330979Z",
     "shell.execute_reply": "2022-06-28T15:48:37.329983Z",
     "shell.execute_reply.started": "2022-06-28T15:48:37.322897Z"
    }
   },
   "outputs": [],
   "source": [
    "valid.columns"
   ]
  },
  {
   "cell_type": "code",
   "execution_count": 47,
   "metadata": {
    "execution": {
     "iopub.execute_input": "2022-06-28T15:49:23.432918Z",
     "iopub.status.busy": "2022-06-28T15:49:23.432436Z",
     "iopub.status.idle": "2022-06-28T15:49:23.439737Z",
     "shell.execute_reply": "2022-06-28T15:49:23.438505Z",
     "shell.execute_reply.started": "2022-06-28T15:49:23.432882Z"
    }
   },
   "outputs": [],
   "source": [
    "le=LabelEncoder()\n",
    "for col in valid.columns:\n",
    "    if valid[col].dtypes == 'object':\n",
    "        valid[col]= le.fit_transform(valid[col])"
   ]
  },
  {
   "cell_type": "code",
   "execution_count": 48,
   "metadata": {
    "execution": {
     "iopub.execute_input": "2022-06-28T15:49:28.052866Z",
     "iopub.status.busy": "2022-06-28T15:49:28.051317Z",
     "iopub.status.idle": "2022-06-28T15:49:28.063906Z",
     "shell.execute_reply": "2022-06-28T15:49:28.062859Z",
     "shell.execute_reply.started": "2022-06-28T15:49:28.052783Z"
    }
   },
   "outputs": [],
   "source": [
    "valid['MSZoning'].value_counts()"
   ]
  },
  {
   "cell_type": "code",
   "execution_count": 49,
   "metadata": {
    "execution": {
     "iopub.execute_input": "2022-06-28T15:49:37.765765Z",
     "iopub.status.busy": "2022-06-28T15:49:37.765134Z",
     "iopub.status.idle": "2022-06-28T15:49:37.809060Z",
     "shell.execute_reply": "2022-06-28T15:49:37.807591Z",
     "shell.execute_reply.started": "2022-06-28T15:49:37.765713Z"
    }
   },
   "outputs": [],
   "source": [
    "valid"
   ]
  },
  {
   "cell_type": "code",
   "execution_count": 50,
   "metadata": {
    "execution": {
     "iopub.execute_input": "2022-06-28T15:50:02.152298Z",
     "iopub.status.busy": "2022-06-28T15:50:02.151894Z",
     "iopub.status.idle": "2022-06-28T15:50:02.171039Z",
     "shell.execute_reply": "2022-06-28T15:50:02.169193Z",
     "shell.execute_reply.started": "2022-06-28T15:50:02.152267Z"
    }
   },
   "outputs": [],
   "source": [
    "y_valid = mlr.predict(valid)"
   ]
  },
  {
   "cell_type": "code",
   "execution_count": 51,
   "metadata": {
    "execution": {
     "iopub.execute_input": "2022-06-28T15:50:15.967349Z",
     "iopub.status.busy": "2022-06-28T15:50:15.966920Z",
     "iopub.status.idle": "2022-06-28T15:50:15.975476Z",
     "shell.execute_reply": "2022-06-28T15:50:15.974461Z",
     "shell.execute_reply.started": "2022-06-28T15:50:15.967318Z"
    }
   },
   "outputs": [],
   "source": [
    "y_valid"
   ]
  },
  {
   "cell_type": "code",
   "execution_count": 52,
   "metadata": {
    "execution": {
     "iopub.execute_input": "2022-06-28T15:50:35.299500Z",
     "iopub.status.busy": "2022-06-28T15:50:35.299047Z",
     "iopub.status.idle": "2022-06-28T15:50:35.318207Z",
     "shell.execute_reply": "2022-06-28T15:50:35.317221Z",
     "shell.execute_reply.started": "2022-06-28T15:50:35.299467Z"
    }
   },
   "outputs": [],
   "source": [
    "output = pd.DataFrame({\"Id\": valid['Id'],\"SalePrice\": y_valid})\n",
    "output"
   ]
  },
  {
   "cell_type": "code",
   "execution_count": 53,
   "metadata": {
    "execution": {
     "iopub.execute_input": "2022-06-28T15:51:48.921424Z",
     "iopub.status.busy": "2022-06-28T15:51:48.920884Z",
     "iopub.status.idle": "2022-06-28T15:51:48.950100Z",
     "shell.execute_reply": "2022-06-28T15:51:48.948570Z",
     "shell.execute_reply.started": "2022-06-28T15:51:48.921387Z"
    }
   },
   "outputs": [],
   "source": [
    "output.to_csv(\"submission1.csv\", index=False)\n",
    "output.head(10)"
   ]
  },
  {
   "cell_type": "code",
   "execution_count": null,
   "metadata": {},
   "outputs": [],
   "source": []
  }
 ],
 "metadata": {
  "kernelspec": {
   "display_name": "Python 3",
   "language": "python",
   "name": "python3"
  },
  "language_info": {
   "codemirror_mode": {
    "name": "ipython",
    "version": 3
   },
   "file_extension": ".py",
   "mimetype": "text/x-python",
   "name": "python",
   "nbconvert_exporter": "python",
   "pygments_lexer": "ipython3",
   "version": "3.7.12"
  }
 },
 "nbformat": 4,
 "nbformat_minor": 4
}
